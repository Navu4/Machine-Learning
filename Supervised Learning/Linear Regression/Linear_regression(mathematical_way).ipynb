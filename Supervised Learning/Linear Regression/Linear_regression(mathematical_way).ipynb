{
 "cells": [
  {
   "cell_type": "code",
   "execution_count": 1,
   "metadata": {},
   "outputs": [],
   "source": [
    "#importing Libraries\n",
    "import numpy as np \n",
    "import pandas as pd\n",
    "import matplotlib.pyplot as plt\n",
    "import sklearn"
   ]
  },
  {
   "cell_type": "code",
   "execution_count": 2,
   "metadata": {},
   "outputs": [],
   "source": [
    "#importing dataset\n",
    "from sklearn.datasets import make_regression"
   ]
  },
  {
   "cell_type": "code",
   "execution_count": 14,
   "metadata": {},
   "outputs": [],
   "source": [
    "X,y = make_regression(n_samples = 500 ,n_features = 1,noise = 25,bias = 10)"
   ]
  },
  {
   "cell_type": "code",
   "execution_count": 15,
   "metadata": {},
   "outputs": [
    {
     "data": {
      "text/plain": [
       "<function matplotlib.pyplot.show(*args, **kw)>"
      ]
     },
     "execution_count": 15,
     "metadata": {},
     "output_type": "execute_result"
    },
    {
     "data": {
      "image/png": "[encoded data removed]",
      "text/plain": [
       "<Figure size 432x288 with 1 Axes>"
      ]
     },
     "metadata": {
      "needs_background": "light"
     },
     "output_type": "display_data"
    }
   ],
   "source": [
    "plt.scatter(X,y)\n",
    "plt.show"
   ]
  },
  {
   "cell_type": "code",
   "execution_count": 16,
   "metadata": {},
   "outputs": [
    {
     "name": "stdout",
     "output_type": "stream",
     "text": [
      "400\n",
      "(400, 1)\n",
      "(100, 1)\n",
      "(100,)\n"
     ]
    }
   ],
   "source": [
    "\"\"\"Our data needs to be split in 2 parts\n",
    "    - Training Data\n",
    "    - Testing Data\"\"\"\n",
    "split = int(0.8*X.shape[0])\n",
    "print(split)\n",
    "\n",
    "X_train = X[:split]\n",
    "X_test = X[split:]\n",
    "\n",
    "Y_train = y[:split]\n",
    "Y_test = y[split:]\n",
    "\n",
    "print(X_train.shape)\n",
    "print(X_test.shape)\n",
    "\n",
    "print(Y_test.shape)"
   ]
  },
  {
   "cell_type": "code",
   "execution_count": 17,
   "metadata": {},
   "outputs": [],
   "source": [
    "## Methods we need to write\n",
    "#mathematical way of linear regression model\n",
    "def hypothesis(x,theta):\n",
    "    return theta[0] + x*theta[1]"
   ]
  },
  {
   "cell_type": "code",
   "execution_count": 18,
   "metadata": {},
   "outputs": [],
   "source": [
    "def get_error(X, Y, theta):\n",
    "     err = 0.0\n",
    "     m = X.shape[0]\n",
    "    \n",
    "     for i in range(m):\n",
    "         h = hypothesis(X[i], theta)\n",
    "         err += (Y[i] - h)**2\n",
    "        \n",
    "     err = err/2*m\n",
    "     return err"
   ]
  },
  {
   "cell_type": "code",
   "execution_count": 19,
   "metadata": {},
   "outputs": [],
   "source": [
    "def get_grad(X,Y,theta):\n",
    "     grad_0 = 0.0\n",
    "     grad_1 = 0.0\n",
    "    \n",
    "     grad = np.zeros((2,))\n",
    "    \n",
    "     m = X.shape[0]\n",
    "    \n",
    "     for i in range(m):\n",
    "         h = hypothesis(X[i],theta)\n",
    "         grad[0] += (h - Y[i])\n",
    "         grad[1] += (h - Y[i])*(X[i])\n",
    "        \n",
    "     grad[0] = grad[0]/m\n",
    "     grad[1] = grad[1]/m\n",
    "    \n",
    "     return grad"
   ]
  },
  {
   "cell_type": "code",
   "execution_count": 20,
   "metadata": {},
   "outputs": [],
   "source": [
    "def gradient_descent(X,Y,learning_rate = 0.01):\n",
    "     error_list = []\n",
    "     theta = np.zeros((2,))\n",
    "    \n",
    "     i = 0\n",
    "     max_iter = 500\n",
    "     for i in range (max_iter):\n",
    "         g = get_grad(X,Y,theta)\n",
    "         e = get_error(X,Y,theta)\n",
    "         error_list.append(e)\n",
    "        \n",
    "         theta[0] -= learning_rate*g[0]\n",
    "         theta[1] -= learning_rate*g[1]\n",
    "        \n",
    "         i += 1\n",
    "        \n",
    "     return theta, error_list"
   ]
  },
  {
   "cell_type": "code",
   "execution_count": 21,
   "metadata": {},
   "outputs": [],
   "source": [
    "theta_final, errors = gradient_descent(X_train,Y_train)"
   ]
  },
  {
   "cell_type": "code",
   "execution_count": 22,
   "metadata": {},
   "outputs": [
    {
     "data": {
      "image/png": "[encoded data removed]",
      "text/plain": [
       "<Figure size 432x288 with 1 Axes>"
      ]
     },
     "metadata": {
      "needs_background": "light"
     },
     "output_type": "display_data"
    }
   ],
   "source": [
    "plt.plot(errors)\n",
    "plt.show()\n",
    "\n",
    "#print(loss[-1])"
   ]
  },
  {
   "cell_type": "code",
   "execution_count": 23,
   "metadata": {},
   "outputs": [
    {
     "data": {
      "text/plain": [
       "[<matplotlib.lines.Line2D at 0x1426430>]"
      ]
     },
     "execution_count": 23,
     "metadata": {},
     "output_type": "execute_result"
    },
    {
     "data": {
      "image/png": "[encoded data removed]",
      "text/plain": [
       "<Figure size 432x288 with 1 Axes>"
      ]
     },
     "metadata": {
      "needs_background": "light"
     },
     "output_type": "display_data"
    }
   ],
   "source": [
    "plt.scatter(X_train,Y_train)\n",
    "plt.plot(X_test,hypothesis(X_test,theta_final), color = \"orange\")"
   ]
  },
  {
   "cell_type": "code",
   "execution_count": null,
   "metadata": {},
   "outputs": [],
   "source": []
  }
 ],
 "metadata": {
  "kernelspec": {
   "display_name": "Python 3",
   "language": "python",
   "name": "python3"
  },
  "language_info": {
   "codemirror_mode": {
    "name": "ipython",
    "version": 3
   },
   "file_extension": ".py",
   "mimetype": "text/x-python",
   "name": "python",
   "nbconvert_exporter": "python",
   "pygments_lexer": "ipython3",
   "version": "3.7.3"
  }
 },
 "nbformat": 4,
 "nbformat_minor": 2
}
